{
 "cells": [
  {
   "cell_type": "code",
   "execution_count": 34,
   "metadata": {},
   "outputs": [],
   "source": [
    "import pandas as pd"
   ]
  },
  {
   "cell_type": "code",
   "execution_count": 35,
   "metadata": {},
   "outputs": [],
   "source": [
    "spr_data = pd.read_csv(\"/Users/justin/govtech/projects/hansard/data_analysis/hansards-analysis/src_mp/unique_id.csv\")\n",
    "spr_data = spr_data[spr_data[\"vol\"] == 15].copy()"
   ]
  },
  {
   "cell_type": "code",
   "execution_count": 36,
   "metadata": {},
   "outputs": [
    {
     "data": {
      "text/html": [
       "<div>\n",
       "<style scoped>\n",
       "    .dataframe tbody tr th:only-of-type {\n",
       "        vertical-align: middle;\n",
       "    }\n",
       "\n",
       "    .dataframe tbody tr th {\n",
       "        vertical-align: top;\n",
       "    }\n",
       "\n",
       "    .dataframe thead th {\n",
       "        text-align: right;\n",
       "    }\n",
       "</style>\n",
       "<table border=\"1\" class=\"dataframe\">\n",
       "  <thead>\n",
       "    <tr style=\"text-align: right;\">\n",
       "      <th></th>\n",
       "      <th>vol</th>\n",
       "      <th>kod_kawasan</th>\n",
       "      <th>name</th>\n",
       "      <th>sex</th>\n",
       "      <th>ethnicity</th>\n",
       "      <th>tahun_lahir</th>\n",
       "      <th>parti</th>\n",
       "      <th>uid</th>\n",
       "    </tr>\n",
       "  </thead>\n",
       "  <tbody>\n",
       "    <tr>\n",
       "      <th>0</th>\n",
       "      <td>15</td>\n",
       "      <td>P001</td>\n",
       "      <td>Rushdan Bin Rusmi</td>\n",
       "      <td>male</td>\n",
       "      <td>bumiputera</td>\n",
       "      <td>1978</td>\n",
       "      <td>PN</td>\n",
       "      <td>4409</td>\n",
       "    </tr>\n",
       "    <tr>\n",
       "      <th>1</th>\n",
       "      <td>15</td>\n",
       "      <td>P002</td>\n",
       "      <td>Zakri Bin Hassan</td>\n",
       "      <td>male</td>\n",
       "      <td>bumiputera</td>\n",
       "      <td>1965</td>\n",
       "      <td>PN</td>\n",
       "      <td>4413</td>\n",
       "    </tr>\n",
       "    <tr>\n",
       "      <th>2</th>\n",
       "      <td>15</td>\n",
       "      <td>P003</td>\n",
       "      <td>Shahidan Bin Kassim</td>\n",
       "      <td>male</td>\n",
       "      <td>bumiputera</td>\n",
       "      <td>1951</td>\n",
       "      <td>PN</td>\n",
       "      <td>1665</td>\n",
       "    </tr>\n",
       "    <tr>\n",
       "      <th>3</th>\n",
       "      <td>15</td>\n",
       "      <td>P004</td>\n",
       "      <td>Mohd Suhaimi Bin Abdullah</td>\n",
       "      <td>male</td>\n",
       "      <td>bumiputera</td>\n",
       "      <td>1976</td>\n",
       "      <td>PN</td>\n",
       "      <td>4420</td>\n",
       "    </tr>\n",
       "    <tr>\n",
       "      <th>4</th>\n",
       "      <td>15</td>\n",
       "      <td>P005</td>\n",
       "      <td>Abd Ghani Bin Ahmad</td>\n",
       "      <td>male</td>\n",
       "      <td>bumiputera</td>\n",
       "      <td>1970</td>\n",
       "      <td>PN</td>\n",
       "      <td>4423</td>\n",
       "    </tr>\n",
       "    <tr>\n",
       "      <th>...</th>\n",
       "      <td>...</td>\n",
       "      <td>...</td>\n",
       "      <td>...</td>\n",
       "      <td>...</td>\n",
       "      <td>...</td>\n",
       "      <td>...</td>\n",
       "      <td>...</td>\n",
       "      <td>...</td>\n",
       "    </tr>\n",
       "    <tr>\n",
       "      <th>217</th>\n",
       "      <td>15</td>\n",
       "      <td>P218</td>\n",
       "      <td>Lukanisman Bin Awang Sauni</td>\n",
       "      <td>male</td>\n",
       "      <td>bumiputera</td>\n",
       "      <td>1982</td>\n",
       "      <td>GPS</td>\n",
       "      <td>4403</td>\n",
       "    </tr>\n",
       "    <tr>\n",
       "      <th>218</th>\n",
       "      <td>15</td>\n",
       "      <td>P219</td>\n",
       "      <td>Chiew Choon Man</td>\n",
       "      <td>male</td>\n",
       "      <td>chinese</td>\n",
       "      <td>1991</td>\n",
       "      <td>PH</td>\n",
       "      <td>5212</td>\n",
       "    </tr>\n",
       "    <tr>\n",
       "      <th>219</th>\n",
       "      <td>15</td>\n",
       "      <td>P220</td>\n",
       "      <td>Anyi Ngau</td>\n",
       "      <td>male</td>\n",
       "      <td>bumiputera</td>\n",
       "      <td>1958</td>\n",
       "      <td>GPS</td>\n",
       "      <td>3978</td>\n",
       "    </tr>\n",
       "    <tr>\n",
       "      <th>220</th>\n",
       "      <td>15</td>\n",
       "      <td>P221</td>\n",
       "      <td>Hasbi Bin Habibollah</td>\n",
       "      <td>male</td>\n",
       "      <td>bumiputera</td>\n",
       "      <td>1963</td>\n",
       "      <td>GPS</td>\n",
       "      <td>3627</td>\n",
       "    </tr>\n",
       "    <tr>\n",
       "      <th>221</th>\n",
       "      <td>15</td>\n",
       "      <td>P222</td>\n",
       "      <td>Henry Sum Agong</td>\n",
       "      <td>male</td>\n",
       "      <td>bumiputera</td>\n",
       "      <td>1946</td>\n",
       "      <td>GPS</td>\n",
       "      <td>2912</td>\n",
       "    </tr>\n",
       "  </tbody>\n",
       "</table>\n",
       "<p>222 rows × 8 columns</p>\n",
       "</div>"
      ],
      "text/plain": [
       "     vol kod_kawasan                        name   sex   ethnicity  \\\n",
       "0     15        P001           Rushdan Bin Rusmi  male  bumiputera   \n",
       "1     15        P002            Zakri Bin Hassan  male  bumiputera   \n",
       "2     15        P003         Shahidan Bin Kassim  male  bumiputera   \n",
       "3     15        P004   Mohd Suhaimi Bin Abdullah  male  bumiputera   \n",
       "4     15        P005         Abd Ghani Bin Ahmad  male  bumiputera   \n",
       "..   ...         ...                         ...   ...         ...   \n",
       "217   15        P218  Lukanisman Bin Awang Sauni  male  bumiputera   \n",
       "218   15        P219             Chiew Choon Man  male     chinese   \n",
       "219   15        P220                   Anyi Ngau  male  bumiputera   \n",
       "220   15        P221        Hasbi Bin Habibollah  male  bumiputera   \n",
       "221   15        P222             Henry Sum Agong  male  bumiputera   \n",
       "\n",
       "     tahun_lahir parti   uid  \n",
       "0           1978    PN  4409  \n",
       "1           1965    PN  4413  \n",
       "2           1951    PN  1665  \n",
       "3           1976    PN  4420  \n",
       "4           1970    PN  4423  \n",
       "..           ...   ...   ...  \n",
       "217         1982   GPS  4403  \n",
       "218         1991    PH  5212  \n",
       "219         1958   GPS  3978  \n",
       "220         1963   GPS  3627  \n",
       "221         1946   GPS  2912  \n",
       "\n",
       "[222 rows x 8 columns]"
      ]
     },
     "execution_count": 36,
     "metadata": {},
     "output_type": "execute_result"
    }
   ],
   "source": [
    "spr_data"
   ]
  },
  {
   "cell_type": "code",
   "execution_count": 37,
   "metadata": {},
   "outputs": [],
   "source": [
    "dr_data = pd.read_csv(\"cleaned_maklumat_new.csv\")"
   ]
  },
  {
   "cell_type": "code",
   "execution_count": 38,
   "metadata": {},
   "outputs": [],
   "source": [
    "merge_df = pd.merge(dr_data, spr_data, \"left\", [\"vol\", \"kod_kawasan\"])"
   ]
  },
  {
   "cell_type": "code",
   "execution_count": 39,
   "metadata": {},
   "outputs": [],
   "source": [
    "min_df = merge_df[['vol', 'kod_kawasan', 'negeri', 'kawasan', 'uid', 'gelaran', 'nama','tahun_lahir_y','sex','ethnicity',\n",
    "       'parti_x',\n",
    "       'jawatan_kabinet', 'jawatan_parlimen', 'gambar', \n",
    "        ]]"
   ]
  },
  {
   "cell_type": "code",
   "execution_count": 40,
   "metadata": {},
   "outputs": [],
   "source": [
    "min_df.columns = [\"vol\", \"kod_kawasan\", \"negeri\", \"kawasan\", 'uid', \"gelaran\", \"nama\", \"tahun_lahir\", \"jantina\", \"kumpulan_etnik\", \"parti\", \"jawatan_kabinet\",\"jawatan_parlimen\", \"gambar\"]"
   ]
  },
  {
   "cell_type": "code",
   "execution_count": 41,
   "metadata": {},
   "outputs": [
    {
     "name": "stderr",
     "output_type": "stream",
     "text": [
      "/var/folders/7q/vk27jw6d7_95l168mby_n6zc0000gn/T/ipykernel_73562/898290794.py:1: SettingWithCopyWarning: \n",
      "A value is trying to be set on a copy of a slice from a DataFrame.\n",
      "Try using .loc[row_indexer,col_indexer] = value instead\n",
      "\n",
      "See the caveats in the documentation: https://pandas.pydata.org/pandas-docs/stable/user_guide/indexing.html#returning-a-view-versus-a-copy\n",
      "  min_df[\"negeri\"] = min_df[\"negeri\"].replace(\"-\",pd.NA)\n"
     ]
    }
   ],
   "source": [
    "min_df[\"negeri\"] = min_df[\"negeri\"].replace(\"-\",pd.NA)"
   ]
  },
  {
   "cell_type": "code",
   "execution_count": 42,
   "metadata": {},
   "outputs": [],
   "source": [
    "min_df.to_csv(\"DR_15_spr_id.csv\", index=False)"
   ]
  },
  {
   "cell_type": "markdown",
   "metadata": {},
   "source": [
    "# OLD"
   ]
  },
  {
   "cell_type": "code",
   "execution_count": 43,
   "metadata": {},
   "outputs": [],
   "source": [
    "spr_data_old = pd.read_csv(\"/Users/justin/govtech/projects/hansard/data_analysis/hansards-analysis/src_mp/unique_id.csv\")\n",
    "dr_data_old = pd.read_csv(\"cleaned_maklumat.csv\")\n",
    "dr_data_old = dr_data_old[dr_data_old[\"vol\"] >= 12].copy()"
   ]
  },
  {
   "cell_type": "code",
   "execution_count": 44,
   "metadata": {},
   "outputs": [],
   "source": [
    "merge_df_old = pd.merge(dr_data_old, spr_data_old, \"left\", [\"vol\", \"kod_kawasan\"])"
   ]
  },
  {
   "cell_type": "code",
   "execution_count": 45,
   "metadata": {},
   "outputs": [],
   "source": [
    "min_df_old = merge_df_old[['vol', 'kod_kawasan', 'negeri', 'kawasan', 'uid','gelaran', 'nama','tahun_lahir_y','sex','ethnicity',\n",
    "       'parti_x',\n",
    "       'jawatan_kabinet', 'jawatan_parlimen', 'gambar', \"name\"\n",
    "        ]]"
   ]
  },
  {
   "cell_type": "code",
   "execution_count": 46,
   "metadata": {},
   "outputs": [],
   "source": [
    "min_df_old.columns = [\"vol\", \"kod_kawasan\", \"negeri\", \"kawasan\",'uid', \"gelaran\", \"nama\", \"tahun_lahir\", \"jantina\", \"kumpulan_etnik\", \"parti\", \"jawatan_kabinet\",\"jawatan_parlimen\", \"gambar\",\"spr_name\"]"
   ]
  },
  {
   "cell_type": "code",
   "execution_count": 47,
   "metadata": {},
   "outputs": [
    {
     "name": "stderr",
     "output_type": "stream",
     "text": [
      "/var/folders/7q/vk27jw6d7_95l168mby_n6zc0000gn/T/ipykernel_73562/1221527497.py:1: SettingWithCopyWarning: \n",
      "A value is trying to be set on a copy of a slice from a DataFrame.\n",
      "Try using .loc[row_indexer,col_indexer] = value instead\n",
      "\n",
      "See the caveats in the documentation: https://pandas.pydata.org/pandas-docs/stable/user_guide/indexing.html#returning-a-view-versus-a-copy\n",
      "  min_df[\"jawatan_kabinet\"] = min_df[\"jawatan_kabinet\"].replace(\"Tiada\",pd.NA)\n"
     ]
    }
   ],
   "source": [
    "min_df[\"jawatan_kabinet\"] = min_df[\"jawatan_kabinet\"].replace(\"Tiada\",pd.NA)"
   ]
  },
  {
   "cell_type": "code",
   "execution_count": 48,
   "metadata": {},
   "outputs": [],
   "source": [
    "min_df_old.to_csv(\"DR_1214_spr_id.csv\", index=False)"
   ]
  }
 ],
 "metadata": {
  "kernelspec": {
   "display_name": ".venv",
   "language": "python",
   "name": "python3"
  },
  "language_info": {
   "codemirror_mode": {
    "name": "ipython",
    "version": 3
   },
   "file_extension": ".py",
   "mimetype": "text/x-python",
   "name": "python",
   "nbconvert_exporter": "python",
   "pygments_lexer": "ipython3",
   "version": "3.13.0"
  }
 },
 "nbformat": 4,
 "nbformat_minor": 2
}
