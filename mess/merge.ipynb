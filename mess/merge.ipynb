{
 "cells": [
  {
   "cell_type": "code",
   "execution_count": 1,
   "metadata": {},
   "outputs": [],
   "source": [
    "import pandas as pd"
   ]
  },
  {
   "cell_type": "code",
   "execution_count": 4,
   "metadata": {},
   "outputs": [],
   "source": [
    "spr_data = pd.read_csv(\"/Users/justin/govtech/projects/hansard/data_analysis/hansards-analysis/src_mp/unique.csv\")\n",
    "spr_data = spr_data[spr_data[\"vol\"] == 15].copy()"
   ]
  },
  {
   "cell_type": "code",
   "execution_count": 5,
   "metadata": {},
   "outputs": [],
   "source": [
    "dr_data = pd.read_csv(\"cleaned_maklumat_new.csv\")"
   ]
  },
  {
   "cell_type": "code",
   "execution_count": 9,
   "metadata": {},
   "outputs": [],
   "source": [
    "merge_df = pd.merge(dr_data, spr_data, \"left\", [\"vol\", \"kod_kawasan\"])"
   ]
  },
  {
   "cell_type": "code",
   "execution_count": 25,
   "metadata": {},
   "outputs": [],
   "source": [
    "min_df = merge_df[['vol', 'kod_kawasan', 'negeri', 'kawasan', 'gelaran', 'nama','tahun_lahir_y','sex','ethnicity',\n",
    "       'parti_x',\n",
    "       'jawatan_kabinet', 'jawatan_parlimen', 'gambar', \n",
    "        ]]"
   ]
  },
  {
   "cell_type": "code",
   "execution_count": 26,
   "metadata": {},
   "outputs": [],
   "source": [
    "min_df.columns = [\"vol\", \"kod_kawasan\", \"negeri\", \"kawasan\", \"gelaran\", \"nama\", \"tahun_lahir\", \"jantina\", \"kumpulan_etnik\", \"parti\", \"jawatan_kabinet\",\"jawatan_parlimen\", \"gambar\"]"
   ]
  },
  {
   "cell_type": "code",
   "execution_count": 27,
   "metadata": {},
   "outputs": [
    {
     "name": "stderr",
     "output_type": "stream",
     "text": [
      "/var/folders/7q/vk27jw6d7_95l168mby_n6zc0000gn/T/ipykernel_71722/898290794.py:1: SettingWithCopyWarning: \n",
      "A value is trying to be set on a copy of a slice from a DataFrame.\n",
      "Try using .loc[row_indexer,col_indexer] = value instead\n",
      "\n",
      "See the caveats in the documentation: https://pandas.pydata.org/pandas-docs/stable/user_guide/indexing.html#returning-a-view-versus-a-copy\n",
      "  min_df[\"negeri\"] = min_df[\"negeri\"].replace(\"-\",pd.NA)\n"
     ]
    }
   ],
   "source": [
    "min_df[\"negeri\"] = min_df[\"negeri\"].replace(\"-\",pd.NA)"
   ]
  },
  {
   "cell_type": "code",
   "execution_count": 28,
   "metadata": {},
   "outputs": [],
   "source": [
    "min_df.to_csv(\"DR_15_spr.csv\", index=False)"
   ]
  },
  {
   "cell_type": "markdown",
   "metadata": {},
   "source": [
    "# OLD"
   ]
  },
  {
   "cell_type": "code",
   "execution_count": 50,
   "metadata": {},
   "outputs": [],
   "source": [
    "spr_data_old = pd.read_csv(\"/Users/justin/govtech/projects/hansard/data_analysis/hansards-analysis/src_mp/unique.csv\")\n",
    "dr_data_old = pd.read_csv(\"cleaned_maklumat.csv\")\n",
    "dr_data_old = dr_data_old[dr_data_old[\"vol\"] >= 12].copy()"
   ]
  },
  {
   "cell_type": "code",
   "execution_count": 51,
   "metadata": {},
   "outputs": [],
   "source": [
    "merge_df_old = pd.merge(dr_data_old, spr_data_old, \"left\", [\"vol\", \"kod_kawasan\"])"
   ]
  },
  {
   "cell_type": "code",
   "execution_count": 52,
   "metadata": {},
   "outputs": [],
   "source": [
    "min_df_old = merge_df_old[['vol', 'kod_kawasan', 'negeri', 'kawasan', 'gelaran', 'nama','tahun_lahir_y','sex','ethnicity',\n",
    "       'parti_x',\n",
    "       'jawatan_kabinet', 'jawatan_parlimen', 'gambar', \"name\"\n",
    "        ]]"
   ]
  },
  {
   "cell_type": "code",
   "execution_count": 53,
   "metadata": {},
   "outputs": [],
   "source": [
    "min_df_old.columns = [\"vol\", \"kod_kawasan\", \"negeri\", \"kawasan\", \"gelaran\", \"nama\", \"tahun_lahir\", \"jantina\", \"kumpulan_etnik\", \"parti\", \"jawatan_kabinet\",\"jawatan_parlimen\", \"gambar\",\"spr_name\"]"
   ]
  },
  {
   "cell_type": "code",
   "execution_count": 54,
   "metadata": {},
   "outputs": [],
   "source": [
    "min_df[\"jawatan_kabinet\"] = min_df[\"jawatan_kabinet\"].replace(\"Tiada\",pd.NA)"
   ]
  },
  {
   "cell_type": "code",
   "execution_count": 55,
   "metadata": {},
   "outputs": [],
   "source": [
    "min_df_old.to_csv(\"DR_1214_spr.csv\", index=False)"
   ]
  },
  {
   "cell_type": "code",
   "execution_count": null,
   "metadata": {},
   "outputs": [],
   "source": []
  }
 ],
 "metadata": {
  "kernelspec": {
   "display_name": ".venv",
   "language": "python",
   "name": "python3"
  },
  "language_info": {
   "codemirror_mode": {
    "name": "ipython",
    "version": 3
   },
   "file_extension": ".py",
   "mimetype": "text/x-python",
   "name": "python",
   "nbconvert_exporter": "python",
   "pygments_lexer": "ipython3",
   "version": "3.13.0"
  }
 },
 "nbformat": 4,
 "nbformat_minor": 2
}
